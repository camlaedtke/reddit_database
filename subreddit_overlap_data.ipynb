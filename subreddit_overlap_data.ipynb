{
 "cells": [
  {
   "cell_type": "markdown",
   "id": "e4e9a10f",
   "metadata": {},
   "source": [
    "# Subreddit Overlap Data"
   ]
  },
  {
   "cell_type": "code",
   "execution_count": null,
   "id": "61f17f3d",
   "metadata": {},
   "outputs": [],
   "source": [
    "import json\n",
    "import sqlite3\n",
    "import sqlalchemy\n",
    "import subprocess\n",
    "import numpy as np\n",
    "import pandas as pd\n",
    "from os.path import isfile\n",
    "from sqlalchemy import create_engine\n",
    "from matplotlib import pyplot as plt\n",
    "\n",
    "%matplotlib inline\n",
    "%config InlineBackend.figure_format = 'retina'\n",
    "pd.set_option('display.max_columns', None)"
   ]
  },
  {
   "cell_type": "code",
   "execution_count": null,
   "id": "68955fb6",
   "metadata": {},
   "outputs": [],
   "source": [
    "DB_NAME = \"data/RC_2020_jan-june.db\"\n",
    "conn = sqlite3.connect(DB_NAME)"
   ]
  },
  {
   "cell_type": "markdown",
   "id": "d0503884",
   "metadata": {},
   "source": [
    "Take a look at the raw data"
   ]
  },
  {
   "cell_type": "code",
   "execution_count": null,
   "id": "640a976d",
   "metadata": {},
   "outputs": [],
   "source": [
    "df = pd.read_sql_query(\"\"\"SELECT * FROM reddit_comments LIMIT 100\"\"\", conn)\n",
    "df = df.drop(columns=[\"index\"])\n",
    "df.head()"
   ]
  },
  {
   "cell_type": "markdown",
   "id": "8ab65879",
   "metadata": {},
   "source": [
    "Create a list of number of users in each subreddit, and save the result a new table"
   ]
  },
  {
   "cell_type": "code",
   "execution_count": null,
   "id": "5767a693",
   "metadata": {},
   "outputs": [],
   "source": [
    "QUERY1 = \"\"\"\n",
    "CREATE TABLE subr_users AS\n",
    "    SELECT subreddit, authors, DENSE_RANK() OVER (ORDER BY authors DESC) AS rank_authors\n",
    "    FROM (SELECT subreddit, SUM(1) as authors\n",
    "         FROM (SELECT subreddit, author, COUNT(1) as cnt \n",
    "             FROM reddit_comments\n",
    "             GROUP BY subreddit, author HAVING cnt > 0)\n",
    "         GROUP BY subreddit) t\n",
    "    ORDER BY authors DESC;\n",
    "\"\"\"\n",
    "\n",
    "c = conn.cursor()\n",
    "c.execute(QUERY1)\n",
    "conn.commit()"
   ]
  },
  {
   "cell_type": "code",
   "execution_count": null,
   "id": "58e43a6e",
   "metadata": {},
   "outputs": [],
   "source": [
    "df = pd.read_sql_query(\"\"\"SELECT * FROM subr_users\"\"\", conn)\n",
    "df.head()"
   ]
  },
  {
   "cell_type": "code",
   "execution_count": null,
   "id": "27ea5125",
   "metadata": {},
   "outputs": [],
   "source": [
    "plt.figure(figsize=(16,6))\n",
    "\n",
    "plt.subplot(121)\n",
    "plt.title(\"authors\")\n",
    "plt.plot(df.index, df.authors)\n",
    "plt.yscale(\"log\")\n",
    "\n",
    "plt.subplot(122)\n",
    "plt.title(\"authors hist\")\n",
    "plt.hist(df.authors, bins=50)\n",
    "plt.yscale(\"log\")\n",
    "\n",
    "plt.show()"
   ]
  },
  {
   "cell_type": "code",
   "execution_count": null,
   "id": "a106ed0e",
   "metadata": {},
   "outputs": [],
   "source": [
    "plt.figure(figsize=(16,6))\n",
    "\n",
    "plt.title(\"authors\")\n",
    "plt.plot(df.index[200:2201], df.authors[200:2201])\n",
    "plt.show()"
   ]
  },
  {
   "cell_type": "markdown",
   "id": "ee800b2d",
   "metadata": {},
   "source": [
    "Using the table `subr_users`, we create a list of number of users who authored at least 10 posts in pairs of subreddits. The result is a table called `overlapping_subr_users`, where each row contains a from subreddit, a to subreddit, and the number of unique commenters that the two subreddits have in common."
   ]
  },
  {
   "cell_type": "code",
   "execution_count": null,
   "id": "3267fe26",
   "metadata": {},
   "outputs": [],
   "source": [
    "QUERY2 = \"\"\"\n",
    "CREATE TABLE overlapping_subr_users AS\n",
    "    SELECT t1.subreddit, t2.subreddit, SUM(1) AS NumOverlaps\n",
    "    FROM (SELECT subreddit, author, COUNT(1) AS cnt \n",
    "         FROM reddit_comments\n",
    "         WHERE subreddit IN (SELECT subreddit FROM subr_users\n",
    "           WHERE rank_authors>200 AND rank_authors<2201)\n",
    "         GROUP BY subreddit, author HAVING cnt > 10) t1\n",
    "    JOIN (SELECT subreddit, author, COUNT(1) as cnt \n",
    "         FROM reddit_comments\n",
    "         GROUP BY subreddit, author HAVING cnt > 10) t2\n",
    "    ON t1.author=t2.author\n",
    "    WHERE t1.subreddit!=t2.subreddit\n",
    "    GROUP BY t1.subreddit, t2.subreddit\n",
    "\"\"\"\n",
    "\n",
    "c = conn.cursor()\n",
    "c.execute(QUERY2)\n",
    "conn.commit()"
   ]
  },
  {
   "cell_type": "markdown",
   "id": "72af99f1",
   "metadata": {},
   "source": [
    "Read in the result of the second query as a dataframe. Edit the column names and store it for later"
   ]
  },
  {
   "cell_type": "code",
   "execution_count": null,
   "id": "15207a80",
   "metadata": {},
   "outputs": [],
   "source": [
    "df = pd.read_sql_query(\"\"\"SELECT * FROM overlapping_subr_users\"\"\", conn)\n",
    "# df = df.rename(columns={\"subreddit\":\"t1_subreddit\", \"subreddit:1\":\"t2_subreddit\"})\n",
    "# df.describe()"
   ]
  },
  {
   "cell_type": "code",
   "execution_count": null,
   "id": "0fe78cd5",
   "metadata": {},
   "outputs": [],
   "source": [
    "df.head()"
   ]
  },
  {
   "cell_type": "code",
   "execution_count": null,
   "id": "73057bb4",
   "metadata": {},
   "outputs": [],
   "source": [
    "# print(\"t1_subreddit unique subreddits: {}\".format(len(df[\"t1_subreddit\"].unique())))\n",
    "# print(\"t2_subreddit unique subreddits: {}\".format(len(df[\"t2_subreddit\"].unique())))"
   ]
  },
  {
   "cell_type": "code",
   "execution_count": null,
   "id": "f4167c46",
   "metadata": {},
   "outputs": [],
   "source": [
    "df.to_csv(\"data/RC_2020_jan-june_subreddit_overlaps.csv\", index=False)"
   ]
  },
  {
   "cell_type": "markdown",
   "id": "5d8b3daf",
   "metadata": {},
   "source": [
    "Close the database connection"
   ]
  },
  {
   "cell_type": "code",
   "execution_count": null,
   "id": "70df4d6d",
   "metadata": {},
   "outputs": [],
   "source": [
    "conn.close()"
   ]
  },
  {
   "cell_type": "code",
   "execution_count": null,
   "id": "faac2443",
   "metadata": {},
   "outputs": [],
   "source": []
  }
 ],
 "metadata": {
  "kernelspec": {
   "display_name": "Python 3",
   "language": "python",
   "name": "python3"
  },
  "language_info": {
   "codemirror_mode": {
    "name": "ipython",
    "version": 3
   },
   "file_extension": ".py",
   "mimetype": "text/x-python",
   "name": "python",
   "nbconvert_exporter": "python",
   "pygments_lexer": "ipython3",
   "version": "3.7.10"
  }
 },
 "nbformat": 4,
 "nbformat_minor": 5
}
